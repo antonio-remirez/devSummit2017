{
 "cells": [
  {
   "cell_type": "markdown",
   "metadata": {},
   "source": [
    "# ArcGIS Python API\n",
    "\n",
    "<br />\n",
    "<img src=\"https://desarrollogis.maps.arcgis.com/sharing/rest/content/items/c695225d54844306a73105632b8c0839/data\">\n",
    "<br />"
   ]
  },
  {
   "cell_type": "markdown",
   "metadata": {
    "collapsed": true
   },
   "source": [
    "\n",
    "# Por dónde empezamos?\n",
    "\n",
    "### Por la página de desarrolladores: https://developers.arcgis.com/python/ \n",
    "\n",
    "### Acceso directo al API en Github: https://github.com/Esri/arcgis-python-api \n",
    "\n",
    "### ArcGIS Python API Reference: http://esri.github.io/arcgis-python-api/apidoc/html/ \n",
    "\n",
    "### Para conocer más sobre conda: https://conda.io/docs/\n",
    "\n",
    "### Para entender mejor Jupyter: https://jupyterhub.readthedocs.io/en/latest/ \n",
    "\n",
    "### Escribir y formatear con Markdown: https://help.github.com/articles/basic-writing-and-formatting-syntax/\n",
    "\n",
    "<br />"
   ]
  },
  {
   "cell_type": "markdown",
   "metadata": {},
   "source": [
    "# Calentamiento\n",
    "\n",
    "Vamos a hacer un pequeño ejercicio de calentamiento basado en un notebook existente:\n",
    "\n",
    "1. Accede a la web de desarrolladores y busca los samples: https://developers.arcgis.com/python/sample-notebooks/\n",
    "1. Busca el primer ejemplo (\"Your first notebook\"): https://developers.arcgis.com/python/sample-notebooks/your-first-notebook/ y pincha en \"Try it live\" para acceder al notebook\n",
    "1. Repasa la sección \"Getting started with the API\" y trata de usarla desde una cuenta propia\n",
    "\n",
    "<br />"
   ]
  },
  {
   "cell_type": "markdown",
   "metadata": {},
   "source": [
    "# Administrando tu Web GIS\n",
    "\n",
    "Ahora vamos a comprobar cómo un administrador puede acceder a usuarios/roles/grupos de su organización y modificarlos a su gusto."
   ]
  },
  {
   "cell_type": "code",
   "execution_count": 1,
   "metadata": {},
   "outputs": [
    {
     "name": "stdout",
     "output_type": "stream",
     "text": [
      "Enter password: ········\n"
     ]
    }
   ],
   "source": [
    "from arcgis import *\n",
    "gis = GIS(\"https://desarrollogis.maps.arcgis.com\", \"expertoAdmin\")"
   ]
  },
  {
   "cell_type": "code",
   "execution_count": null,
   "metadata": {
    "collapsed": true
   },
   "outputs": [],
   "source": [
    "# Podemos habilitar/deshabilitar usuarios\n",
    "users = gis.users.search(\"*\")\n",
    "for user in users:\n",
    "    if str(user[\"username\"]) != \"expertoAdmin\":\n",
    "        user.disable()"
   ]
  },
  {
   "cell_type": "code",
   "execution_count": null,
   "metadata": {
    "collapsed": true
   },
   "outputs": [],
   "source": [
    "# Podemos crear/eliminar usuarios y su contenido. También podemos reasignar contenido\n",
    "newuser = gis.users.create(username = \"aaaweee\",\n",
    "                            password = None,\n",
    "                            firstname = \"firstName\",\n",
    "                            lastname = \"lastName\",\n",
    "                            email = \"testUser@test.es\",\n",
    "                            role=\"org_publisher\")\n",
    "\n",
    "newuser"
   ]
  },
  {
   "cell_type": "code",
   "execution_count": null,
   "metadata": {
    "collapsed": true
   },
   "outputs": [],
   "source": [
    "newuser.delete()"
   ]
  },
  {
   "cell_type": "code",
   "execution_count": null,
   "metadata": {
    "collapsed": true
   },
   "outputs": [],
   "source": [
    "users = gis.users.search(\"*\")\n",
    "for user in users:\n",
    "    if user.availableCredits < 25:\n",
    "        print(user.firstName + user.lastName)"
   ]
  },
  {
   "cell_type": "markdown",
   "metadata": {},
   "source": [
    "# Creando contenido"
   ]
  },
  {
   "cell_type": "code",
   "execution_count": 7,
   "metadata": {
    "collapsed": true
   },
   "outputs": [],
   "source": [
    "import pandas as pd"
   ]
  },
  {
   "cell_type": "code",
   "execution_count": 8,
   "metadata": {
    "scrolled": false
   },
   "outputs": [
    {
     "data": {
      "text/html": [
       "<div>\n",
       "<style>\n",
       "    .dataframe thead tr:only-child th {\n",
       "        text-align: right;\n",
       "    }\n",
       "\n",
       "    .dataframe thead th {\n",
       "        text-align: left;\n",
       "    }\n",
       "\n",
       "    .dataframe tbody tr th {\n",
       "        vertical-align: top;\n",
       "    }\n",
       "</style>\n",
       "<table border=\"1\" class=\"dataframe\">\n",
       "  <thead>\n",
       "    <tr style=\"text-align: right;\">\n",
       "      <th></th>\n",
       "      <th>Unnamed: 0</th>\n",
       "      <th>X</th>\n",
       "      <th>Y</th>\n",
       "      <th>ProgramName</th>\n",
       "      <th>ProjectTitle</th>\n",
       "      <th>DamageExtent</th>\n",
       "      <th>ID</th>\n",
       "    </tr>\n",
       "  </thead>\n",
       "  <tbody>\n",
       "    <tr>\n",
       "      <th>0</th>\n",
       "      <td>0</td>\n",
       "      <td>-118.213772</td>\n",
       "      <td>34.032372</td>\n",
       "      <td>Municipal Facilities R and P</td>\n",
       "      <td>Boyle Heights Sports Center</td>\n",
       "      <td>95</td>\n",
       "      <td>35</td>\n",
       "    </tr>\n",
       "    <tr>\n",
       "      <th>1</th>\n",
       "      <td>1</td>\n",
       "      <td>-118.245915</td>\n",
       "      <td>34.045172</td>\n",
       "      <td>Municipal Facilities R and P</td>\n",
       "      <td>Engine Company 23 Arts Center</td>\n",
       "      <td>76</td>\n",
       "      <td>20565</td>\n",
       "    </tr>\n",
       "    <tr>\n",
       "      <th>2</th>\n",
       "      <td>2</td>\n",
       "      <td>-118.245911</td>\n",
       "      <td>34.045161</td>\n",
       "      <td>Municipal Facilities R and P</td>\n",
       "      <td>Engine Company 23 Arts Center</td>\n",
       "      <td>76</td>\n",
       "      <td>20566</td>\n",
       "    </tr>\n",
       "    <tr>\n",
       "      <th>3</th>\n",
       "      <td>3</td>\n",
       "      <td>-118.407213</td>\n",
       "      <td>34.235234</td>\n",
       "      <td>Bridge Improvement Program</td>\n",
       "      <td>Laurel Canyon Blvd Bridge-1233</td>\n",
       "      <td>78</td>\n",
       "      <td>771</td>\n",
       "    </tr>\n",
       "    <tr>\n",
       "      <th>4</th>\n",
       "      <td>4</td>\n",
       "      <td>-118.317632</td>\n",
       "      <td>34.025554</td>\n",
       "      <td>Wastewater - CSP</td>\n",
       "      <td>Wilshire Area System Swr Rehab</td>\n",
       "      <td>58</td>\n",
       "      <td>768</td>\n",
       "    </tr>\n",
       "    <tr>\n",
       "      <th>5</th>\n",
       "      <td>5</td>\n",
       "      <td>-118.432091</td>\n",
       "      <td>33.928674</td>\n",
       "      <td>Wastewater - TPP</td>\n",
       "      <td>HWRP- IPS Odor Control Improvements</td>\n",
       "      <td>62</td>\n",
       "      <td>180</td>\n",
       "    </tr>\n",
       "    <tr>\n",
       "      <th>6</th>\n",
       "      <td>6</td>\n",
       "      <td>-118.479765</td>\n",
       "      <td>34.181202</td>\n",
       "      <td>Wastewater - TPP</td>\n",
       "      <td>DCT- Backup  Power</td>\n",
       "      <td>55</td>\n",
       "      <td>285</td>\n",
       "    </tr>\n",
       "    <tr>\n",
       "      <th>7</th>\n",
       "      <td>7</td>\n",
       "      <td>-118.405540</td>\n",
       "      <td>34.144947</td>\n",
       "      <td>Municipal Facilities R and P</td>\n",
       "      <td>Los Angeles Riverfront Park Phase II</td>\n",
       "      <td>90</td>\n",
       "      <td>109</td>\n",
       "    </tr>\n",
       "    <tr>\n",
       "      <th>8</th>\n",
       "      <td>8</td>\n",
       "      <td>-118.261960</td>\n",
       "      <td>33.744299</td>\n",
       "      <td>Wastewater - TPP</td>\n",
       "      <td>TIWRP- Aeration System Replacement</td>\n",
       "      <td>97</td>\n",
       "      <td>274</td>\n",
       "    </tr>\n",
       "    <tr>\n",
       "      <th>9</th>\n",
       "      <td>9</td>\n",
       "      <td>-118.615010</td>\n",
       "      <td>34.257942</td>\n",
       "      <td>Municipal Facilities R and P</td>\n",
       "      <td>Chatsworth Park South - Park Improvements</td>\n",
       "      <td>88</td>\n",
       "      <td>117</td>\n",
       "    </tr>\n",
       "    <tr>\n",
       "      <th>10</th>\n",
       "      <td>10</td>\n",
       "      <td>-118.501563</td>\n",
       "      <td>34.191936</td>\n",
       "      <td>Municipal Facilities R and P</td>\n",
       "      <td>Sepulveda Basin Lake Balboa (Irrigation System)</td>\n",
       "      <td>31</td>\n",
       "      <td>121</td>\n",
       "    </tr>\n",
       "    <tr>\n",
       "      <th>11</th>\n",
       "      <td>11</td>\n",
       "      <td>-118.200496</td>\n",
       "      <td>34.060427</td>\n",
       "      <td>Recreational and Cultural Fac.</td>\n",
       "      <td>HAZARD PARK GYM</td>\n",
       "      <td>26</td>\n",
       "      <td>810</td>\n",
       "    </tr>\n",
       "    <tr>\n",
       "      <th>12</th>\n",
       "      <td>12</td>\n",
       "      <td>-118.375310</td>\n",
       "      <td>34.249659</td>\n",
       "      <td>Municipal Facilities R and P</td>\n",
       "      <td>Stonehurst Recreation Center</td>\n",
       "      <td>61</td>\n",
       "      <td>1198</td>\n",
       "    </tr>\n",
       "    <tr>\n",
       "      <th>13</th>\n",
       "      <td>13</td>\n",
       "      <td>-118.481582</td>\n",
       "      <td>34.180086</td>\n",
       "      <td>Wastewater - TPP</td>\n",
       "      <td>DCTWRP- Electrical Power System Mods</td>\n",
       "      <td>9</td>\n",
       "      <td>914</td>\n",
       "    </tr>\n",
       "    <tr>\n",
       "      <th>14</th>\n",
       "      <td>14</td>\n",
       "      <td>-118.433131</td>\n",
       "      <td>33.928158</td>\n",
       "      <td>Wastewater - TPP</td>\n",
       "      <td>HWRP- Headworks Odor Control Upgrade</td>\n",
       "      <td>5</td>\n",
       "      <td>836</td>\n",
       "    </tr>\n",
       "    <tr>\n",
       "      <th>15</th>\n",
       "      <td>15</td>\n",
       "      <td>-118.481932</td>\n",
       "      <td>34.179953</td>\n",
       "      <td>Wastewater - TPP</td>\n",
       "      <td>DCTWRP- Blower Air Cleanup System</td>\n",
       "      <td>14</td>\n",
       "      <td>1009</td>\n",
       "    </tr>\n",
       "    <tr>\n",
       "      <th>16</th>\n",
       "      <td>16</td>\n",
       "      <td>-118.373463</td>\n",
       "      <td>34.280179</td>\n",
       "      <td>Street Improvement</td>\n",
       "      <td>Osborne Street Bridge Replacement  (FHWA)</td>\n",
       "      <td>68</td>\n",
       "      <td>1073</td>\n",
       "    </tr>\n",
       "    <tr>\n",
       "      <th>17</th>\n",
       "      <td>17</td>\n",
       "      <td>-118.475571</td>\n",
       "      <td>34.171540</td>\n",
       "      <td>Street Improvement</td>\n",
       "      <td>Burbank Blvd &amp; Woodley Ave Intersection Impr</td>\n",
       "      <td>96</td>\n",
       "      <td>1160</td>\n",
       "    </tr>\n",
       "    <tr>\n",
       "      <th>18</th>\n",
       "      <td>18</td>\n",
       "      <td>-118.492374</td>\n",
       "      <td>34.167024</td>\n",
       "      <td>Street Improvement</td>\n",
       "      <td>Burbank Blvd &amp; Hayvenhurst Ave Intersection Impr</td>\n",
       "      <td>96</td>\n",
       "      <td>1162</td>\n",
       "    </tr>\n",
       "    <tr>\n",
       "      <th>19</th>\n",
       "      <td>19</td>\n",
       "      <td>-118.433225</td>\n",
       "      <td>33.928127</td>\n",
       "      <td>Wastewater - TPP</td>\n",
       "      <td>HWRP- Abrasive Blast &amp; Steam Cleaning Facility</td>\n",
       "      <td>97</td>\n",
       "      <td>1208</td>\n",
       "    </tr>\n",
       "    <tr>\n",
       "      <th>20</th>\n",
       "      <td>20</td>\n",
       "      <td>-118.433009</td>\n",
       "      <td>33.927760</td>\n",
       "      <td>Wastewater - TPP</td>\n",
       "      <td>HWRP- Dilute Polymer System Improvements</td>\n",
       "      <td>64</td>\n",
       "      <td>1217</td>\n",
       "    </tr>\n",
       "    <tr>\n",
       "      <th>21</th>\n",
       "      <td>21</td>\n",
       "      <td>-118.279275</td>\n",
       "      <td>33.739150</td>\n",
       "      <td>Wastewater - CSP</td>\n",
       "      <td>San Pedro Siphon-Upstream 30\" CIP</td>\n",
       "      <td>99</td>\n",
       "      <td>1246</td>\n",
       "    </tr>\n",
       "    <tr>\n",
       "      <th>22</th>\n",
       "      <td>22</td>\n",
       "      <td>-118.261152</td>\n",
       "      <td>33.745178</td>\n",
       "      <td>Wastewater - TPP</td>\n",
       "      <td>TIWRP- Service Maintenance &amp; Warehouse Facility</td>\n",
       "      <td>95</td>\n",
       "      <td>1282</td>\n",
       "    </tr>\n",
       "    <tr>\n",
       "      <th>23</th>\n",
       "      <td>23</td>\n",
       "      <td>-118.177766</td>\n",
       "      <td>34.113396</td>\n",
       "      <td>Municipal Facilities R and P</td>\n",
       "      <td>Highland Park Jr. Arts Center (Renovate Bldg)</td>\n",
       "      <td>91</td>\n",
       "      <td>1496</td>\n",
       "    </tr>\n",
       "  </tbody>\n",
       "</table>\n",
       "</div>"
      ],
      "text/plain": [
       "    Unnamed: 0           X          Y                     ProgramName  \\\n",
       "0            0 -118.213772  34.032372    Municipal Facilities R and P   \n",
       "1            1 -118.245915  34.045172    Municipal Facilities R and P   \n",
       "2            2 -118.245911  34.045161    Municipal Facilities R and P   \n",
       "3            3 -118.407213  34.235234      Bridge Improvement Program   \n",
       "4            4 -118.317632  34.025554                Wastewater - CSP   \n",
       "5            5 -118.432091  33.928674                Wastewater - TPP   \n",
       "6            6 -118.479765  34.181202                Wastewater - TPP   \n",
       "7            7 -118.405540  34.144947    Municipal Facilities R and P   \n",
       "8            8 -118.261960  33.744299                Wastewater - TPP   \n",
       "9            9 -118.615010  34.257942    Municipal Facilities R and P   \n",
       "10          10 -118.501563  34.191936    Municipal Facilities R and P   \n",
       "11          11 -118.200496  34.060427  Recreational and Cultural Fac.   \n",
       "12          12 -118.375310  34.249659    Municipal Facilities R and P   \n",
       "13          13 -118.481582  34.180086                Wastewater - TPP   \n",
       "14          14 -118.433131  33.928158                Wastewater - TPP   \n",
       "15          15 -118.481932  34.179953                Wastewater - TPP   \n",
       "16          16 -118.373463  34.280179              Street Improvement   \n",
       "17          17 -118.475571  34.171540              Street Improvement   \n",
       "18          18 -118.492374  34.167024              Street Improvement   \n",
       "19          19 -118.433225  33.928127                Wastewater - TPP   \n",
       "20          20 -118.433009  33.927760                Wastewater - TPP   \n",
       "21          21 -118.279275  33.739150                Wastewater - CSP   \n",
       "22          22 -118.261152  33.745178                Wastewater - TPP   \n",
       "23          23 -118.177766  34.113396    Municipal Facilities R and P   \n",
       "\n",
       "                                        ProjectTitle  DamageExtent     ID  \n",
       "0                        Boyle Heights Sports Center            95     35  \n",
       "1                      Engine Company 23 Arts Center            76  20565  \n",
       "2                      Engine Company 23 Arts Center            76  20566  \n",
       "3                     Laurel Canyon Blvd Bridge-1233            78    771  \n",
       "4                     Wilshire Area System Swr Rehab            58    768  \n",
       "5                HWRP- IPS Odor Control Improvements            62    180  \n",
       "6                                DCT- Backup  Power             55    285  \n",
       "7               Los Angeles Riverfront Park Phase II            90    109  \n",
       "8                 TIWRP- Aeration System Replacement            97    274  \n",
       "9          Chatsworth Park South - Park Improvements            88    117  \n",
       "10   Sepulveda Basin Lake Balboa (Irrigation System)            31    121  \n",
       "11                                   HAZARD PARK GYM            26    810  \n",
       "12                      Stonehurst Recreation Center            61   1198  \n",
       "13              DCTWRP- Electrical Power System Mods             9    914  \n",
       "14              HWRP- Headworks Odor Control Upgrade             5    836  \n",
       "15                 DCTWRP- Blower Air Cleanup System            14   1009  \n",
       "16         Osborne Street Bridge Replacement  (FHWA)            68   1073  \n",
       "17      Burbank Blvd & Woodley Ave Intersection Impr            96   1160  \n",
       "18  Burbank Blvd & Hayvenhurst Ave Intersection Impr            96   1162  \n",
       "19    HWRP- Abrasive Blast & Steam Cleaning Facility            97   1208  \n",
       "20          HWRP- Dilute Polymer System Improvements            64   1217  \n",
       "21                 San Pedro Siphon-Upstream 30\" CIP            99   1246  \n",
       "22   TIWRP- Service Maintenance & Warehouse Facility            95   1282  \n",
       "23     Highland Park Jr. Arts Center (Renovate Bldg)            91   1496  "
      ]
     },
     "execution_count": 8,
     "metadata": {},
     "output_type": "execute_result"
    }
   ],
   "source": [
    "# Cargamos unos datos de un CSV local o externo mediante Pandas\n",
    "earthquakes = pd.read_csv(\"https://desarrollogis.maps.arcgis.com/sharing/rest/content/items/b30add2027384ffaafc8aa4c642e074d/data\")\n",
    "earthquakes"
   ]
  },
  {
   "cell_type": "code",
   "execution_count": 47,
   "metadata": {},
   "outputs": [
    {
     "data": {
      "text/plain": [
       "<matplotlib.axes._subplots.AxesSubplot at 0x2895bd5fc18>"
      ]
     },
     "execution_count": 47,
     "metadata": {},
     "output_type": "execute_result"
    },
    {
     "data": {
      "image/png": "[encoded data removed]",
      "text/plain": [
       "<matplotlib.figure.Figure at 0x2895b9f67b8>"
      ]
     },
     "metadata": {},
     "output_type": "display_data"
    }
   ],
   "source": [
    "earthquakes[\"DamageExtent\"].plot(kind=\"hist\")"
   ]
  },
  {
   "cell_type": "code",
   "execution_count": 23,
   "metadata": {},
   "outputs": [
    {
     "name": "stdout",
     "output_type": "stream",
     "text": [
      "Geocoder does not support single line address input\n"
     ]
    },
    {
     "data": {
      "application/vnd.jupyter.widget-view+json": {
       "model_id": "e48e05f57e734b2db403122a2789e99a"
      }
     },
     "metadata": {},
     "output_type": "display_data"
    }
   ],
   "source": [
    "map = gis.map('Los Angeles')\n",
    "map"
   ]
  },
  {
   "cell_type": "code",
   "execution_count": 24,
   "metadata": {
    "collapsed": true
   },
   "outputs": [],
   "source": [
    "# Importamos como capa estos datos (la relación API-Pandas es muy fluida)\n",
    "featureLayer = gis.content.import_data(earthquakes)"
   ]
  },
  {
   "cell_type": "code",
   "execution_count": 25,
   "metadata": {
    "collapsed": true
   },
   "outputs": [],
   "source": [
    "map.add_layer(featureLayer)"
   ]
  },
  {
   "cell_type": "code",
   "execution_count": null,
   "metadata": {
    "collapsed": true
   },
   "outputs": [],
   "source": [
    "import json\n",
    "\n",
    "# Ya que tenemos la información en momoria, la podemos ajustar para salvarla en nuestro Web GIS\n",
    "item_properties = {\n",
    "    \"title\": \"Terremotoso LA\",\n",
    "    \"tags\" : \"terremotos,LA\",\n",
    "    \"description\": \"terremotos en LA\",\n",
    "    \"text\": json.dumps({\"featureCollection\": {\"layers\": [dict(featureLayer.layer)]}}),\n",
    "    \"type\": \"Feature Collection\",\n",
    "    \"typeKeywords\": \"Data, Feature Collection, Singlelayer\"\n",
    "}\n",
    "\n",
    "item = gis.content.add(item_properties)\n",
    "item"
   ]
  },
  {
   "cell_type": "markdown",
   "metadata": {},
   "source": [
    "# Análisis espacial"
   ]
  },
  {
   "cell_type": "code",
   "execution_count": 26,
   "metadata": {
    "collapsed": true
   },
   "outputs": [],
   "source": [
    "import arcgis.network as network"
   ]
  },
  {
   "cell_type": "code",
   "execution_count": 27,
   "metadata": {},
   "outputs": [
    {
     "data": {
      "text/plain": [
       "'https://route.arcgis.com/arcgis/rest/services/World/ServiceAreas/NAServer/ServiceArea_World'"
      ]
     },
     "execution_count": 27,
     "metadata": {},
     "output_type": "execute_result"
    }
   ],
   "source": [
    "# Este servicio es configurable y podemos usar el nuestro propio en ArcGIS Enterprise\n",
    "service_area_url = gis.properties.helperServices.serviceArea.url\n",
    "service_area_url"
   ]
  },
  {
   "cell_type": "code",
   "execution_count": 28,
   "metadata": {
    "collapsed": true
   },
   "outputs": [],
   "source": [
    "# Obtenemos el servicio service área\n",
    "sa_layer = network.ServiceAreaLayer(service_area_url, gis=gis)"
   ]
  },
  {
   "cell_type": "code",
   "execution_count": 29,
   "metadata": {},
   "outputs": [],
   "source": [
    "# De nuestra capa de terremotos cogemos las features haciendo un query (1=1) y calculamos 3 saltos drive-time\n",
    "result = sa_layer.solve_service_area(featureLayer.query(),default_breaks=[5,10,15])"
   ]
  },
  {
   "cell_type": "code",
   "execution_count": 30,
   "metadata": {},
   "outputs": [
    {
     "data": {
      "text/plain": [
       "dict_keys(['messages', 'saPolygons'])"
      ]
     },
     "execution_count": 30,
     "metadata": {},
     "output_type": "execute_result"
    }
   ],
   "source": [
    "# Revisamos el resultado\n",
    "result.keys()"
   ]
  },
  {
   "cell_type": "code",
   "execution_count": 31,
   "metadata": {},
   "outputs": [
    {
     "data": {
      "text/plain": [
       "dict_keys(['fieldAliases', 'geometryType', 'spatialReference', 'features'])"
      ]
     },
     "execution_count": 31,
     "metadata": {},
     "output_type": "execute_result"
    }
   ],
   "source": [
    "# Vemos que hay polígonos que contienen geometrías\n",
    "result['saPolygons'].keys()"
   ]
  },
  {
   "cell_type": "code",
   "execution_count": 32,
   "metadata": {
    "collapsed": true
   },
   "outputs": [],
   "source": [
    "from arcgis.features import Feature, FeatureSet\n",
    "\n",
    "# Creamos una lista con los polígonos que incluye el resultado del service área\n",
    "poly_feat_list = []\n",
    "for polygon_dict in result['saPolygons']['features']:\n",
    "    f1 = Feature(polygon_dict['geometry'], polygon_dict['attributes'])\n",
    "    poly_feat_list.append(f1)"
   ]
  },
  {
   "cell_type": "code",
   "execution_count": 33,
   "metadata": {
    "collapsed": true
   },
   "outputs": [],
   "source": [
    "# Esa lista la convertimos en un FeatureSet para mayor comodidad\n",
    "service_area_fset = FeatureSet(poly_feat_list, \n",
    "                         geometry_type=result['saPolygons']['geometryType'],\n",
    "                         spatial_reference= result['saPolygons']['spatialReference'])"
   ]
  },
  {
   "cell_type": "code",
   "execution_count": 34,
   "metadata": {
    "collapsed": true
   },
   "outputs": [],
   "source": [
    "# Usamos 3 colores, el más próximo al epicentro será rojo y el más alejado verde\n",
    "colors = {5: [255, 0, 0, 90], \n",
    "          10: [255, 255, 0, 90], \n",
    "          15: [0, 128, 0, 90]}\n",
    "\n",
    "fill_symbol = {\"type\": \"esriSFS\",\"style\": \"esriSFSSolid\", \"color\": [115,76,0,255]}"
   ]
  },
  {
   "cell_type": "code",
   "execution_count": 35,
   "metadata": {},
   "outputs": [
    {
     "name": "stderr",
     "output_type": "stream",
     "text": [
      "IOPub data rate exceeded.\n",
      "The notebook server will temporarily stop sending output\n",
      "to the client in order to avoid crashing it.\n",
      "To change this limit, set the config variable\n",
      "`--NotebookApp.iopub_data_rate_limit`.\n"
     ]
    }
   ],
   "source": [
    "# Para cada polígono resultado de nuestro FeatureSet lo pintamos según corresponda (5, 10 o 15)\n",
    "for service_area in service_area_fset.features:\n",
    "    \n",
    "    #set color based on drive time\n",
    "    fill_symbol['color'] = colors[service_area.attributes['ToBreak']]\n",
    "       \n",
    "    map.draw(service_area.geometry, symbol=fill_symbol)"
   ]
  }
 ],
 "metadata": {
  "kernelspec": {
   "display_name": "Python 3",
   "language": "python",
   "name": "python3"
  },
  "language_info": {
   "codemirror_mode": {
    "name": "ipython",
    "version": 3
   },
   "file_extension": ".py",
   "mimetype": "text/x-python",
   "name": "python",
   "nbconvert_exporter": "python",
   "pygments_lexer": "ipython3",
   "version": "3.6.1"
  }
 },
 "nbformat": 4,
 "nbformat_minor": 2
}
